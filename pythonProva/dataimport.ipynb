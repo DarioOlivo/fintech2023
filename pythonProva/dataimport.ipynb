{
 "cells": [
  {
   "cell_type": "code",
   "id": "initial_id",
   "metadata": {
    "collapsed": true,
    "ExecuteTime": {
     "end_time": "2024-07-07T15:03:56.794612Z",
     "start_time": "2024-07-07T15:03:56.713280Z"
    }
   },
   "source": [
    "import pandas as pd\n",
    "import requests\n",
    "from io import StringIO\n",
    "import sqlite3\n",
    "\n",
    "\n",
    "# URL dei dataset\n",
    "occupazione_url = 'https://raw.githubusercontent.com/AlbertoPuggioniITS/dataset/main/Andamento-occupazione-del-settore-della-pesca-per-regione.csv'\n",
    "importanza_url = 'https://raw.githubusercontent.com/AlbertoPuggioniITS/dataset/main/Importanza-economica-del-settore-della-pesca-per-regione.csv'\n",
    "produttivita_url = 'https://raw.githubusercontent.com/AlbertoPuggioniITS/dataset/main/Produttivita-del-settore-della-pesca-per-regione.csv'\n",
    "\n",
    "df_occupazione = pd.read_csv(occupazione_url, sep=\";\", encoding= \"latin1\")\n",
    "#display(df_occupazione)\n",
    "df_importanza = pd.read_csv(importanza_url, sep=\";\", encoding= \"latin1\")\n",
    "df_produttivita = pd.read_csv(produttivita_url, sep=\";\", encoding= \"latin1\")\n",
    "\n"
   ],
   "outputs": [],
   "execution_count": 2
  },
  {
   "metadata": {},
   "cell_type": "code",
   "outputs": [],
   "execution_count": null,
   "source": "",
   "id": "6994322ed63f1941"
  }
 ],
 "metadata": {
  "kernelspec": {
   "display_name": "Python 3",
   "language": "python",
   "name": "python3"
  },
  "language_info": {
   "codemirror_mode": {
    "name": "ipython",
    "version": 2
   },
   "file_extension": ".py",
   "mimetype": "text/x-python",
   "name": "python",
   "nbconvert_exporter": "python",
   "pygments_lexer": "ipython2",
   "version": "2.7.6"
  }
 },
 "nbformat": 4,
 "nbformat_minor": 5
}
